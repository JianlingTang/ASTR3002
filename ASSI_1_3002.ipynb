{
 "cells": [
  {
   "cell_type": "markdown",
   "metadata": {},
   "source": [
    "### Q1 II\n"
   ]
  },
  {
   "cell_type": "code",
   "execution_count": 2,
   "metadata": {},
   "outputs": [],
   "source": [
    "## Caluclator for ASTR3002 Assignment 1 \n",
    "import numpy as np\n",
    "import astropy.units as u\n",
    "import astropy.constants as c"
   ]
  },
  {
   "cell_type": "code",
   "execution_count": 30,
   "metadata": {},
   "outputs": [
    {
     "name": "stdout",
     "output_type": "stream",
     "text": [
      "the value of the angle equals 89.85254746348845 deg\n"
     ]
    },
    {
     "data": {
      "text/latex": [
       "$20.336257 \\; \\mathrm{}$"
      ],
      "text/plain": [
       "<Quantity 20.33625728>"
      ]
     },
     "execution_count": 30,
     "metadata": {},
     "output_type": "execute_result"
    }
   ],
   "source": [
    "D_s = 1.496e8*u.km\n",
    "D_m = 385000*u.km\n",
    "alpha = np.arccos(D_m/D_s).to(u.deg)\n",
    "print('the value of the angle equals',alpha)\n",
    "factor = D_m/np.cos(87*u.deg)/D_s\n",
    "1/factor"
   ]
  },
  {
   "cell_type": "code",
   "execution_count": 42,
   "metadata": {},
   "outputs": [
    {
     "data": {
      "text/latex": [
       "$6.9156577 \\times 10^{9} \\; \\mathrm{yr}$"
      ],
      "text/plain": [
       "<Quantity 6.91565771e+09 yr>"
      ]
     },
     "execution_count": 42,
     "metadata": {},
     "output_type": "execute_result"
    }
   ],
   "source": [
    "from astropy.cosmology import WMAP9 as cosmo\n",
    "v_rec = cosmo.H(0)*778*u.kpc\n",
    "v_rec.to(u.km*u.s**-1)\n",
    "v_an = 110*u.km*u.s**-1\n",
    "t_col = 778*u.kpc/v_an\n",
    "t_col.to(u.yr)"
   ]
  },
  {
   "cell_type": "code",
   "execution_count": 7,
   "metadata": {},
   "outputs": [
    {
     "data": {
      "text/latex": [
       "$941.87466 \\; \\mathrm{\\frac{km}{s}}$"
      ],
      "text/plain": [
       "<Quantity 941.87465588 km / s>"
      ]
     },
     "execution_count": 7,
     "metadata": {},
     "output_type": "execute_result"
    }
   ],
   "source": [
    "#Caluclate v_0\n",
    "v_0 = (c.G)**0.5*(1e8*u.M_sun)**0.5*(10*u.Mpc*10*u.mas)**(-0.5)*u.rad**0.5\n",
    "v_0.to(u.km*u.s**-1)\n",
    "#Calculate a_0\n",
    "#a_0 = (c.G)*(1e8*u.M_sun)*(10*u.Mpc*10*u.mas)**(-2)*u.rad**2\n",
    "#a_0.to(u.km*u.s**-1*u.yr**-1)\n"
   ]
  },
  {
   "cell_type": "code",
   "execution_count": 20,
   "metadata": {},
   "outputs": [
    {
     "name": "stdout",
     "output_type": "stream",
     "text": [
      "[2166.80985675   -4.20013073]\n",
      "rotational velocity in km/s 1093.006690725509\n"
     ]
    },
    {
     "data": {
      "image/png": "[encoded data removed]",
      "text/plain": [
       "<Figure size 432x288 with 1 Axes>"
      ]
     },
     "metadata": {
      "needs_background": "light"
     },
     "output_type": "display_data"
    }
   ],
   "source": [
    "import matplotlib.pyplot as plt\n",
    "\n",
    "theta_dat_0 = [5,6,7]\n",
    "theta_dat = [i**(-0.5) for i in theta_dat_0]\n",
    "v_rot_dat = [965,880,815]\n",
    "plt.plot(theta_dat,v_rot_dat, 'yo',label='data')\n",
    "coef = np.polyfit(theta_dat,v_rot_dat,1)\n",
    "poly1d_fn = np.poly1d(coef) \n",
    "theta_0 = np.arange(0.3,0.5,0.01)\n",
    "v_rot_0 = coef[1]+coef[0]*theta_0\n",
    "plt.plot(theta_0,v_rot_0,'r',label='Linear fit')\n",
    "plt.title(r'$\\theta_1$ versus rotation velocities for three orbiting objects')\n",
    "plt.xlabel(r'$\\theta_1$')\n",
    "plt.ylabel(r'$v_{rot}$')\n",
    "plt.plot(3.9**(-0.5),coef[1]+coef[0]*(3.9**(-0.5)),'bo',label='new data point')\n",
    "plt.legend()\n",
    "print(coef)\n",
    "new_v_rot = coef[1]+coef[0]*(3.9**(-0.50))\n",
    "\n",
    "print('rotational velocity in km/s',new_v_rot)\n",
    "#Find the rotatianal velocity at theta = 3.9mas in km/s"
   ]
  },
  {
   "cell_type": "code",
   "execution_count": 42,
   "metadata": {},
   "outputs": [],
   "source": []
  },
  {
   "cell_type": "code",
   "execution_count": null,
   "metadata": {},
   "outputs": [],
   "source": []
  }
 ],
 "metadata": {
  "kernelspec": {
   "display_name": "Python 3",
   "language": "python",
   "name": "python3"
  },
  "language_info": {
   "codemirror_mode": {
    "name": "ipython",
    "version": 3
   },
   "file_extension": ".py",
   "mimetype": "text/x-python",
   "name": "python",
   "nbconvert_exporter": "python",
   "pygments_lexer": "ipython3",
   "version": "3.7.3"
  }
 },
 "nbformat": 4,
 "nbformat_minor": 2
}
